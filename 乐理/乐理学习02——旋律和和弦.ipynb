{
 "cells": [
  {
   "cell_type": "code",
   "execution_count": 5,
   "metadata": {},
   "outputs": [
    {
     "data": {
      "image/png": "[encoded data removed]",
      "text/plain": [
       "<IPython.core.display.Image object>"
      ]
     },
     "metadata": {
      "image/png": {
       "height": 49,
       "width": 121
      }
     },
     "output_type": "display_data"
    },
    {
     "data": {
      "text/html": [
       "\n",
       "        <div id=\"midiPlayerDiv314\"></div>\n",
       "        <link rel=\"stylesheet\" href=\"https://cuthbertLab.github.io/music21j/css/m21.css\">\n",
       "        \n",
       "        <script\n",
       "        src=\"https://cdnjs.cloudflare.com/ajax/libs/require.js/2.3.6/require.min.js\"\n",
       "        ></script>\n",
       "    \n",
       "        <script>\n",
       "        function midiPlayerDiv314_play() {\n",
       "            const rq = require.config({\n",
       "                paths: {\n",
       "                    'music21': 'https://cuthbertLab.github.io/music21j/releases/music21.debug',\n",
       "                }\n",
       "            });\n",
       "            rq(['music21'], function(music21) {\n",
       "                mp = new music21.miditools.MidiPlayer();\n",
       "                mp.addPlayer(\"#midiPlayerDiv314\");\n",
       "                mp.base64Load(\"data:audio/midi;base64,TVRoZAAAAAYAAQACJ2BNVHJrAAAAFAD/UQMHoSAA/1gEBAIYCM5g/y8ATVRyawAAACkA/wMAAOAAQM5gkDxazmCAPAAAkEFazmCAQQAAkENazmCAQwDOYP8vAA==\");\n",
       "            });\n",
       "        }\n",
       "        if (typeof require === 'undefined') {\n",
       "            setTimeout(midiPlayerDiv314_play, 2000);\n",
       "        } else {\n",
       "            midiPlayerDiv314_play();\n",
       "        }\n",
       "        </script>"
      ],
      "text/plain": [
       "<IPython.core.display.HTML object>"
      ]
     },
     "metadata": {},
     "output_type": "display_data"
    }
   ],
   "source": [
    "# 这music21真牛逼\n",
    "\n",
    "from music21 import stream, note, chord, environment\n",
    "from shutil import which\n",
    "\n",
    "us = environment.UserSettings()\n",
    "us['musicxmlPath'] = which('mscore')\n",
    "us['musescoreDirectPNGPath'] = us['musicxmlPath']\n",
    "\n",
    "s = stream.Stream()\n",
    "s.repeatAppend(note.Note('C4'), 1)\n",
    "s.repeatAppend(note.Note('F4'), 1)\n",
    "s.repeatAppend(note.Note('G4'), 1)\n",
    "s.show()\n",
    "s.show('midi')"
   ]
  },
  {
   "cell_type": "markdown",
   "metadata": {},
   "source": [
    "我脑袋里的货都倒腾完了，剩下的就是根据课程去学习了。\n",
    "\n",
    "---\n",
    "\n",
    "知道了音程后，我们就可以开始研究不同音程的两个音，先后和同时演奏时得到的感觉了，先后演奏时，称它为**旋律Melody**，同时演奏时，称它为**和弦Chord**。（这么说其实不太精确，旋律中也有和弦，和弦中也有旋律（和弦的顶音常常形成旋律））\n",
    "\n",
    "我们听音乐时，总是既有旋律，又有和弦，旋律（线）是音乐的主轴、灵魂，而和弦（和声）为它提供一个和谐的背景。一般来说，旋律中先后的音是相对不和谐的，因此给人 **“进行”**，**变化**，**发展**的感觉，和声中的同时发出的音则是相对和谐的，为旋律提供支持。\n",
    "\n",
    "想象一下，**音乐的进行就像不断更换画面的动画片，旋律是前景，和声是背景，在同一个画面中，背景和前景总是互相协调的，在不同的画面中，前景和背景则都会有变换，从而让人感觉到情节的发展**。\n",
    "\n",
    "但这里先不聊旋律和和弦，从经典的乐理学习路径开始吧（不要节奏部分）。\n",
    "\n",
    "很诡异的地方是，乐理书上都是直接拿五线谱做心智模型开始的，我觉着这有点狭隘了，但或许确实该如此——总是先通过某个特定编程语言才能熟悉编程的，掌握该语言，进一步深化的时候，这个语言本身也成为材料或常识。"
   ]
  },
  {
   "cell_type": "code",
   "execution_count": null,
   "metadata": {},
   "outputs": [],
   "source": []
  }
 ],
 "metadata": {
  "kernelspec": {
   "display_name": ".venv",
   "language": "python",
   "name": "python3"
  },
  "language_info": {
   "codemirror_mode": {
    "name": "ipython",
    "version": 3
   },
   "file_extension": ".py",
   "mimetype": "text/x-python",
   "name": "python",
   "nbconvert_exporter": "python",
   "pygments_lexer": "ipython3",
   "version": "3.12.0"
  }
 },
 "nbformat": 4,
 "nbformat_minor": 2
}
